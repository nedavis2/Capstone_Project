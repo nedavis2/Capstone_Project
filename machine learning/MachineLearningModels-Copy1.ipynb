{
 "cells": [
  {
   "cell_type": "code",
   "execution_count": 1,
   "id": "9b9f0293",
   "metadata": {},
   "outputs": [],
   "source": [
    "import pandas as pd\n",
    "import numpy as np\n",
    "import os\n",
    "from sklearn.linear_model import LogisticRegression\n",
    "from sklearn.model_selection import train_test_split\n",
    "from sklearn.metrics import confusion_matrix\n",
    "from sklearn import preprocessing\n",
    "from sklearn import metrics\n",
    "from sklearn.ensemble import RandomForestRegressor\n",
    "from sklearn import tree\n",
    "from sklearn.metrics import classification_report\n",
    "\n",
    "from sklearn.model_selection import train_test_split\n",
    "import pickle\n",
    "import math\n",
    "import seaborn\n",
    "import matplotlib.pyplot as plt"
   ]
  },
  {
   "cell_type": "code",
   "execution_count": 2,
   "id": "94754149",
   "metadata": {},
   "outputs": [],
   "source": [
    "def cleanUp(df):\n",
    "    df.drop(columns=[\"Team_abbrev\", \"Opponent_abbrev\", \"vis_team\", \"home_team\", \"Roof\", \"Surface\"], inplace = True)\n",
    "\n",
    "    df.drop(columns=[\"Vegas_Favorite\"], inplace=True)\n",
    "\n",
    "    df.drop(columns=[\"game_date\"], inplace=True)\n",
    "\n",
    "    df.drop(columns=[\"Vegas_Line\", \"Over_Under\"], inplace=True)\n",
    "\n",
    "def normalize_data(df):\n",
    "    df = (df - df.mean())/df.std()\n",
    "    df.dropna(axis=1, how='all', inplace=True)\n",
    "    return df\n",
    "\n",
    "def split_data(df, string):\n",
    "    Y = np.asarray(df[string])\n",
    "    df.drop(columns = [string], inplace = True)\n",
    "    X = np.asarray(df).astype(np.float32)\n",
    "    X = X.reshape(X.shape[0], -1)\n",
    "    Xtrain, Xtest, ytrain, ytest = train_test_split(X, Y, test_size=.2)\n",
    "    return X,Y, Xtrain, Xtest, ytrain, ytest\n",
    "\n",
    "def train(Xtrain, ytrain):\n",
    "    model_forest = RandomForestRegressor()\n",
    "    forest=model_forest.fit(Xtrain, ytrain)\n",
    "    return forest\n",
    "\n",
    "def analyze(df, string,model, Xtest, ytest):\n",
    "    ypred = model.predict(Xtest)\n",
    "    mn = df[string].mean()\n",
    "    st = df[string].std()\n",
    "    ypred  = (ypred * st) + mn\n",
    "    ytest = (ytest * st) + mn\n",
    "    ypred = np.around(ypred)\n",
    "    ytest = np.around(ytest)\n",
    "    return ypred, ytest\n",
    "\n",
    "def save_model(model, name):\n",
    "    filename = 'model' + name + '.sav'\n",
    "    pickle.dump(model, open(filename, 'wb'))\n",
    "\n",
    "def create_model(current_st):\n",
    "    df_nfl_players_stats = pd.read_csv(\"C:/Users/carlo/Downloads/nfl_pass_rush_receive_raw_data.csv\")\n",
    "    cleanUp(df_nfl_players_stats)\n",
    "    norm = normalize_data(df_nfl_players_stats)\n",
    "    X,Y, Xtrain, Xtest, ytrain, ytest = split_data(norm, current_st)\n",
    "    model = train(Xtrain, ytrain)\n",
    "    ypred, ytest = analyze(df_nfl_players_stats, current_st, model, Xtest, ytest)\n",
    "    save_model(model, current_st) "
   ]
  },
  {
   "cell_type": "code",
   "execution_count": 6,
   "id": "80ab2175",
   "metadata": {
    "scrolled": false
   },
   "outputs": [
    {
     "name": "stderr",
     "output_type": "stream",
     "text": [
      "C:\\Users\\carlo\\anaconda3\\lib\\site-packages\\IPython\\core\\interactiveshell.py:3165: DtypeWarning: Columns (66) have mixed types.Specify dtype option on import or set low_memory=False.\n",
      "  has_raised = await self.run_ast_nodes(code_ast.body, cell_name,\n"
     ]
    }
   ],
   "source": [
    "df_nfl_players_stats = pd.read_csv(\"C:/Users/carlo/Downloads/nfl_pass_rush_receive_raw_data.csv\")"
   ]
  },
  {
   "cell_type": "code",
   "execution_count": 7,
   "id": "0fa53cd5",
   "metadata": {},
   "outputs": [],
   "source": [
    "current_stadistic = \"rush_yds\"\n",
    "cleanUp(df_nfl_players_stats)\n",
    "norm = normalize_data(df_nfl_players_stats)\n",
    "X,Y, Xtrain, Xtest, ytrain, ytest = split_data(norm, current_stadistic)\n",
    "model = train(Xtrain, ytrain)\n",
    "ypred, ytest = analyze(df_nfl_players_stats, current_stadistic, model, Xtest, ytest)\n",
    "save_model(model, current_stadistic) "
   ]
  },
  {
   "cell_type": "code",
   "execution_count": 11,
   "id": "2d6125a8",
   "metadata": {
    "scrolled": true
   },
   "outputs": [
    {
     "data": {
      "text/plain": [
       "211.0"
      ]
     },
     "execution_count": 11,
     "metadata": {},
     "output_type": "execute_result"
    }
   ],
   "source": [
    "ytest.max()"
   ]
  },
  {
   "cell_type": "code",
   "execution_count": 12,
   "id": "eaf2bb53",
   "metadata": {},
   "outputs": [
    {
     "data": {
      "text/plain": [
       "-20.0"
      ]
     },
     "execution_count": 12,
     "metadata": {},
     "output_type": "execute_result"
    }
   ],
   "source": [
    "ytest.min()"
   ]
  },
  {
   "cell_type": "code",
   "execution_count": 13,
   "id": "1f173920",
   "metadata": {},
   "outputs": [
    {
     "data": {
      "text/plain": [
       "9.832330827067668"
      ]
     },
     "execution_count": 13,
     "metadata": {},
     "output_type": "execute_result"
    }
   ],
   "source": [
    "ytest.mean()"
   ]
  },
  {
   "cell_type": "code",
   "execution_count": 9,
   "id": "be3c986f",
   "metadata": {},
   "outputs": [
    {
     "data": {
      "text/plain": [
       "array([ 0.,  0.,  0., ..., 16., 19.,  0.])"
      ]
     },
     "execution_count": 9,
     "metadata": {},
     "output_type": "execute_result"
    }
   ],
   "source": [
    "ypred"
   ]
  },
  {
   "cell_type": "code",
   "execution_count": 10,
   "id": "b5f6726b",
   "metadata": {},
   "outputs": [
    {
     "name": "stdout",
     "output_type": "stream",
     "text": [
      "[[0 1 0 ... 0 0 0]\n",
      " [0 0 0 ... 0 0 0]\n",
      " [0 0 0 ... 0 0 0]\n",
      " ...\n",
      " [0 0 0 ... 0 0 0]\n",
      " [0 0 0 ... 0 0 0]\n",
      " [0 0 0 ... 1 0 0]]\n",
      "              precision    recall  f1-score   support\n",
      "\n",
      "       -20.0       0.00      0.00      0.00         1\n",
      "       -15.0       0.00      0.00      0.00         0\n",
      "       -13.0       0.00      0.00      0.00         1\n",
      "       -12.0       0.00      0.00      0.00         1\n",
      "       -11.0       0.20      1.00      0.33         1\n",
      "       -10.0       1.00      0.67      0.80         3\n",
      "        -8.0       0.00      0.00      0.00         1\n",
      "        -7.0       1.00      0.25      0.40         4\n",
      "        -6.0       0.33      1.00      0.50         1\n",
      "        -5.0       0.80      1.00      0.89         4\n",
      "        -4.0       1.00      0.88      0.93         8\n",
      "        -3.0       1.00      1.00      1.00        25\n",
      "        -2.0       0.95      0.95      0.95        20\n",
      "        -1.0       0.98      1.00      0.99        49\n",
      "         0.0       1.00      1.00      1.00      3519\n",
      "         1.0       0.92      0.98      0.95        61\n",
      "         2.0       0.96      0.95      0.95        76\n",
      "         3.0       1.00      0.96      0.98        70\n",
      "         4.0       0.95      0.99      0.97        77\n",
      "         5.0       0.95      0.96      0.96        56\n",
      "         6.0       1.00      0.96      0.98        47\n",
      "         7.0       1.00      1.00      1.00        47\n",
      "         8.0       1.00      1.00      1.00        47\n",
      "         9.0       1.00      1.00      1.00        50\n",
      "        10.0       1.00      0.97      0.99        37\n",
      "        11.0       0.97      1.00      0.99        38\n",
      "        12.0       1.00      1.00      1.00        35\n",
      "        13.0       0.97      0.97      0.97        34\n",
      "        14.0       0.93      0.96      0.95        28\n",
      "        15.0       0.97      0.97      0.97        29\n",
      "        16.0       1.00      0.96      0.98        28\n",
      "        17.0       0.96      0.96      0.96        25\n",
      "        18.0       0.92      0.96      0.94        24\n",
      "        19.0       1.00      0.97      0.98        32\n",
      "        20.0       1.00      0.96      0.98        27\n",
      "        21.0       0.95      1.00      0.98        21\n",
      "        22.0       1.00      1.00      1.00        20\n",
      "        23.0       1.00      0.94      0.97        17\n",
      "        24.0       0.91      1.00      0.95        21\n",
      "        25.0       0.79      0.79      0.79        14\n",
      "        26.0       0.88      0.85      0.87        27\n",
      "        27.0       0.62      0.87      0.72        15\n",
      "        28.0       0.89      0.70      0.78        23\n",
      "        29.0       0.93      0.93      0.93        14\n",
      "        30.0       0.92      0.79      0.85        14\n",
      "        31.0       0.85      0.94      0.89        18\n",
      "        32.0       0.86      0.71      0.77        17\n",
      "        33.0       0.63      0.86      0.73        14\n",
      "        34.0       0.73      0.73      0.73        15\n",
      "        35.0       0.82      0.56      0.67        16\n",
      "        36.0       0.75      0.75      0.75        16\n",
      "        37.0       0.70      0.78      0.74         9\n",
      "        38.0       0.92      0.80      0.86        15\n",
      "        39.0       0.71      0.91      0.80        11\n",
      "        40.0       0.88      0.82      0.85        17\n",
      "        41.0       0.60      0.75      0.67         8\n",
      "        42.0       0.88      0.74      0.80        19\n",
      "        43.0       0.64      0.78      0.70         9\n",
      "        44.0       0.78      0.64      0.70        11\n",
      "        45.0       0.69      0.82      0.75        11\n",
      "        46.0       0.89      0.62      0.73        13\n",
      "        47.0       0.83      0.77      0.80        13\n",
      "        48.0       0.55      0.86      0.67         7\n",
      "        49.0       0.80      0.73      0.76        11\n",
      "        50.0       0.64      0.88      0.74         8\n",
      "        51.0       0.55      0.67      0.60         9\n",
      "        52.0       0.50      0.40      0.44        10\n",
      "        53.0       0.43      0.27      0.33        11\n",
      "        54.0       0.46      0.60      0.52        10\n",
      "        55.0       0.29      0.40      0.33         5\n",
      "        56.0       0.58      0.58      0.58        12\n",
      "        57.0       0.50      0.57      0.53         7\n",
      "        58.0       0.83      0.50      0.62        10\n",
      "        59.0       0.00      0.00      0.00         3\n",
      "        60.0       0.60      0.43      0.50         7\n",
      "        61.0       0.57      0.36      0.44        11\n",
      "        62.0       0.45      0.56      0.50         9\n",
      "        63.0       0.45      0.71      0.56         7\n",
      "        64.0       0.60      0.23      0.33        13\n",
      "        65.0       0.27      0.67      0.38         6\n",
      "        66.0       0.60      0.38      0.46         8\n",
      "        67.0       0.67      0.73      0.70        11\n",
      "        68.0       0.20      1.00      0.33         1\n",
      "        69.0       0.67      0.31      0.42        13\n",
      "        70.0       0.12      0.25      0.17         4\n",
      "        71.0       0.50      0.22      0.31         9\n",
      "        72.0       0.20      0.20      0.20         5\n",
      "        73.0       0.17      0.33      0.22         3\n",
      "        74.0       0.43      0.38      0.40         8\n",
      "        75.0       1.00      0.67      0.80         3\n",
      "        76.0       0.33      0.50      0.40         2\n",
      "        77.0       0.38      0.60      0.46         5\n",
      "        78.0       0.33      0.25      0.29         8\n",
      "        79.0       0.43      0.38      0.40         8\n",
      "        80.0       0.40      0.33      0.36         6\n",
      "        81.0       0.40      0.33      0.36         6\n",
      "        82.0       0.00      0.00      0.00         6\n",
      "        83.0       0.43      0.43      0.43         7\n",
      "        84.0       0.25      0.50      0.33         2\n",
      "        85.0       0.00      0.00      0.00         4\n",
      "        86.0       0.20      0.14      0.17         7\n",
      "        87.0       0.00      0.00      0.00         2\n",
      "        88.0       0.17      0.25      0.20         4\n",
      "        89.0       0.00      0.00      0.00         5\n",
      "        90.0       0.00      0.00      0.00         2\n",
      "        91.0       0.12      0.20      0.15         5\n",
      "        92.0       0.00      0.00      0.00         5\n",
      "        93.0       0.20      0.50      0.29         2\n",
      "        94.0       0.00      0.00      0.00         1\n",
      "        95.0       0.00      0.00      0.00         5\n",
      "        96.0       0.00      0.00      0.00         1\n",
      "        97.0       0.00      0.00      0.00         2\n",
      "        98.0       0.00      0.00      0.00         1\n",
      "        99.0       0.00      0.00      0.00         2\n",
      "       102.0       0.00      0.00      0.00         2\n",
      "       103.0       0.00      0.00      0.00         1\n",
      "       104.0       0.00      0.00      0.00         1\n",
      "       105.0       0.00      0.00      0.00         0\n",
      "       106.0       0.00      0.00      0.00         3\n",
      "       107.0       0.00      0.00      0.00         0\n",
      "       108.0       0.14      0.33      0.20         3\n",
      "       109.0       0.00      0.00      0.00         4\n",
      "       110.0       0.67      0.50      0.57         4\n",
      "       111.0       0.00      0.00      0.00         3\n",
      "       112.0       0.00      0.00      0.00         1\n",
      "       113.0       0.00      0.00      0.00         2\n",
      "       114.0       0.50      1.00      0.67         1\n",
      "       115.0       1.00      1.00      1.00         1\n",
      "       116.0       0.00      0.00      0.00         2\n",
      "       117.0       0.00      0.00      0.00         1\n",
      "       118.0       0.25      1.00      0.40         1\n",
      "       119.0       0.00      0.00      0.00         2\n",
      "       120.0       0.00      0.00      0.00         5\n",
      "       121.0       0.00      0.00      0.00         0\n",
      "       122.0       0.00      0.00      0.00         3\n",
      "       123.0       0.00      0.00      0.00         1\n",
      "       124.0       0.00      0.00      0.00         2\n",
      "       126.0       0.00      0.00      0.00         0\n",
      "       127.0       0.00      0.00      0.00         0\n",
      "       128.0       0.00      0.00      0.00         1\n",
      "       129.0       0.00      0.00      0.00         2\n",
      "       130.0       0.00      0.00      0.00         1\n",
      "       131.0       0.50      0.50      0.50         2\n",
      "       132.0       0.00      0.00      0.00         4\n",
      "       133.0       0.00      0.00      0.00         0\n",
      "       134.0       0.00      0.00      0.00         1\n",
      "       136.0       0.00      0.00      0.00         1\n",
      "       138.0       0.00      0.00      0.00         0\n",
      "       139.0       0.00      0.00      0.00         1\n",
      "       140.0       1.00      1.00      1.00         1\n",
      "       141.0       0.00      0.00      0.00         0\n",
      "       142.0       0.00      0.00      0.00         1\n",
      "       143.0       0.00      0.00      0.00         3\n",
      "       144.0       0.33      0.50      0.40         2\n",
      "       147.0       0.00      0.00      0.00         0\n",
      "       148.0       0.00      0.00      0.00         0\n",
      "       150.0       0.00      0.00      0.00         1\n",
      "       151.0       0.00      0.00      0.00         1\n",
      "       153.0       0.50      1.00      0.67         1\n",
      "       154.0       0.00      0.00      0.00         1\n",
      "       155.0       0.00      0.00      0.00         0\n",
      "       156.0       0.00      0.00      0.00         0\n",
      "       157.0       0.00      0.00      0.00         1\n",
      "       158.0       0.00      0.00      0.00         0\n",
      "       159.0       0.00      0.00      0.00         0\n",
      "       160.0       0.00      0.00      0.00         1\n",
      "       162.0       0.00      0.00      0.00         0\n",
      "       165.0       0.00      0.00      0.00         1\n",
      "       167.0       0.00      0.00      0.00         1\n",
      "       170.0       0.00      0.00      0.00         1\n",
      "       172.0       0.00      0.00      0.00         1\n",
      "       173.0       0.00      0.00      0.00         1\n",
      "       176.0       0.00      0.00      0.00         0\n",
      "       182.0       0.00      0.00      0.00         0\n",
      "       188.0       0.00      0.00      0.00         0\n",
      "       189.0       0.00      0.00      0.00         1\n",
      "       200.0       0.00      0.00      0.00         0\n",
      "       205.0       0.00      0.00      0.00         1\n",
      "       211.0       0.00      0.00      0.00         1\n",
      "\n",
      "    accuracy                           0.93      5320\n",
      "   macro avg       0.40      0.42      0.40      5320\n",
      "weighted avg       0.93      0.93      0.93      5320\n",
      "\n"
     ]
    },
    {
     "name": "stderr",
     "output_type": "stream",
     "text": [
      "C:\\Users\\carlo\\anaconda3\\lib\\site-packages\\sklearn\\metrics\\_classification.py:1344: UndefinedMetricWarning: Precision and F-score are ill-defined and being set to 0.0 in labels with no predicted samples. Use `zero_division` parameter to control this behavior.\n",
      "  _warn_prf(average, modifier, msg_start, len(result))\n",
      "C:\\Users\\carlo\\anaconda3\\lib\\site-packages\\sklearn\\metrics\\_classification.py:1344: UndefinedMetricWarning: Recall and F-score are ill-defined and being set to 0.0 in labels with no true samples. Use `zero_division` parameter to control this behavior.\n",
      "  _warn_prf(average, modifier, msg_start, len(result))\n",
      "C:\\Users\\carlo\\anaconda3\\lib\\site-packages\\sklearn\\metrics\\_classification.py:1344: UndefinedMetricWarning: Precision and F-score are ill-defined and being set to 0.0 in labels with no predicted samples. Use `zero_division` parameter to control this behavior.\n",
      "  _warn_prf(average, modifier, msg_start, len(result))\n",
      "C:\\Users\\carlo\\anaconda3\\lib\\site-packages\\sklearn\\metrics\\_classification.py:1344: UndefinedMetricWarning: Recall and F-score are ill-defined and being set to 0.0 in labels with no true samples. Use `zero_division` parameter to control this behavior.\n",
      "  _warn_prf(average, modifier, msg_start, len(result))\n",
      "C:\\Users\\carlo\\anaconda3\\lib\\site-packages\\sklearn\\metrics\\_classification.py:1344: UndefinedMetricWarning: Precision and F-score are ill-defined and being set to 0.0 in labels with no predicted samples. Use `zero_division` parameter to control this behavior.\n",
      "  _warn_prf(average, modifier, msg_start, len(result))\n",
      "C:\\Users\\carlo\\anaconda3\\lib\\site-packages\\sklearn\\metrics\\_classification.py:1344: UndefinedMetricWarning: Recall and F-score are ill-defined and being set to 0.0 in labels with no true samples. Use `zero_division` parameter to control this behavior.\n",
      "  _warn_prf(average, modifier, msg_start, len(result))\n"
     ]
    }
   ],
   "source": [
    "cnf_matrix = confusion_matrix(ytest,ypred)\n",
    "print(cnf_matrix)\n",
    "print(classification_report(ytest,ypred))"
   ]
  },
  {
   "cell_type": "code",
   "execution_count": null,
   "id": "852f4e24",
   "metadata": {
    "scrolled": true
   },
   "outputs": [],
   "source": [
    "df_nfl_players_stats"
   ]
  },
  {
   "cell_type": "code",
   "execution_count": null,
   "id": "8842f584",
   "metadata": {},
   "outputs": [],
   "source": [
    "df_nfl_players_stats[df_nfl_players_stats[\"pos\"]==\"QB\"]"
   ]
  },
  {
   "cell_type": "code",
   "execution_count": null,
   "id": "445ed04b",
   "metadata": {},
   "outputs": [],
   "source": [
    "model_forest = RandomForestRegressor()\n",
    "forest=model_forest.fit(Xtrain, ytrain)\n",
    "\n",
    "ypred = forest.predict(Xtest)\n",
    "ypred = np.around(ypred)\n",
    "cnf_matrix = confusion_matrix(ytest,ypred)\n",
    "print(cnf_matrix)\n",
    "print(classification_report(ytest,ypred))\n",
    "\n",
    "seaborn.heatmap(cnf_matrix, annot=True)"
   ]
  },
  {
   "cell_type": "markdown",
   "id": "4ad3dedb",
   "metadata": {},
   "source": [
    "## Only QB DATA TRAINING"
   ]
  },
  {
   "cell_type": "code",
   "execution_count": null,
   "id": "aef06c11",
   "metadata": {},
   "outputs": [],
   "source": [
    "df_nfl_players_stats = pd.read_csv(\"C:/Users/carlo/Downloads/nfl_pass_rush_receive_raw_data.csv\")"
   ]
  },
  {
   "cell_type": "code",
   "execution_count": null,
   "id": "2b3d8e67",
   "metadata": {},
   "outputs": [],
   "source": [
    "df_nfl_players_stats.drop(columns=[\"Team_abbrev\", \"Opponent_abbrev\", \"vis_team\", \"home_team\", \"Roof\", \"Surface\"], inplace = True)\n",
    "\n",
    "df_nfl_players_stats.drop(columns=[\"Vegas_Favorite\"], inplace=True)\n",
    "\n",
    "df_nfl_players_stats.drop(columns=[\"game_date\"], inplace=True)\n",
    "\n",
    "df_nfl_players_stats.drop(columns=[\"Vegas_Line\", \"Over_Under\"], inplace=True)"
   ]
  },
  {
   "cell_type": "code",
   "execution_count": null,
   "id": "323ddd87",
   "metadata": {},
   "outputs": [],
   "source": [
    "df_qb = df_nfl_players_stats[df_nfl_players_stats[\"pos\"]==\"QB\"]"
   ]
  },
  {
   "cell_type": "code",
   "execution_count": null,
   "id": "882b58cf",
   "metadata": {},
   "outputs": [],
   "source": [
    "df_qb"
   ]
  },
  {
   "cell_type": "code",
   "execution_count": null,
   "id": "560f86a0",
   "metadata": {
    "scrolled": true
   },
   "outputs": [],
   "source": [
    "df1 = pd.read_csv(\"C:/Users/carlo/Downloads/nfl_pass_rush_receive_raw_data.csv\")"
   ]
  },
  {
   "cell_type": "code",
   "execution_count": null,
   "id": "d75460bb",
   "metadata": {},
   "outputs": [],
   "source": [
    "cleanUp(df1)"
   ]
  },
  {
   "cell_type": "code",
   "execution_count": null,
   "id": "d4ba324b",
   "metadata": {},
   "outputs": [],
   "source": [
    "norm = normalize_data(df1)"
   ]
  },
  {
   "cell_type": "code",
   "execution_count": null,
   "id": "576cff7c",
   "metadata": {
    "scrolled": false
   },
   "outputs": [],
   "source": [
    "Y = np.asarray(df_qb[\"pass_cmp\"])\n",
    "df_qb.drop(columns=[\"pass_cmp\"], inplace=True)"
   ]
  },
  {
   "cell_type": "code",
   "execution_count": null,
   "id": "cc0e29ba",
   "metadata": {},
   "outputs": [],
   "source": [
    "df_qb"
   ]
  },
  {
   "cell_type": "code",
   "execution_count": null,
   "id": "0e9b2440",
   "metadata": {
    "scrolled": true
   },
   "outputs": [],
   "source": [
    "X = np.asarray(df_qb.iloc[:,5:]).astype(np.float32)\n",
    "X = X.reshape(X.shape[0], -1)"
   ]
  },
  {
   "cell_type": "code",
   "execution_count": null,
   "id": "8eb7b776",
   "metadata": {
    "scrolled": true
   },
   "outputs": [],
   "source": [
    "X,Y =split_data(norm, \"pass_cmp\")"
   ]
  },
  {
   "cell_type": "code",
   "execution_count": null,
   "id": "4466ea85",
   "metadata": {},
   "outputs": [],
   "source": [
    "Xtrain, Xtest, ytrain, ytest = train_test_split(X, Y, test_size=.2)"
   ]
  },
  {
   "cell_type": "code",
   "execution_count": null,
   "id": "8ae22167",
   "metadata": {},
   "outputs": [],
   "source": [
    "model_forest = RandomForestRegressor()\n",
    "forest=model_forest.fit(Xtrain, ytrain)"
   ]
  },
  {
   "cell_type": "code",
   "execution_count": null,
   "id": "f61a90e6",
   "metadata": {},
   "outputs": [],
   "source": [
    "ytest"
   ]
  },
  {
   "cell_type": "code",
   "execution_count": null,
   "id": "9b1b3a1a",
   "metadata": {},
   "outputs": [],
   "source": [
    "ypred"
   ]
  },
  {
   "cell_type": "code",
   "execution_count": null,
   "id": "348681a4",
   "metadata": {},
   "outputs": [],
   "source": [
    "ypred, ytest = analyze(df_nfl_players_stats, \"pass_cmp\", forest, Xtest, ytest)"
   ]
  },
  {
   "cell_type": "code",
   "execution_count": null,
   "id": "546a900e",
   "metadata": {},
   "outputs": [],
   "source": [
    "ypred"
   ]
  },
  {
   "cell_type": "code",
   "execution_count": null,
   "id": "1b0afd69",
   "metadata": {},
   "outputs": [],
   "source": [
    "ytest"
   ]
  },
  {
   "cell_type": "code",
   "execution_count": null,
   "id": "06395fb7",
   "metadata": {
    "scrolled": false
   },
   "outputs": [],
   "source": [
    "cnf_matrix = confusion_matrix(ytest,ypred)\n",
    "print(cnf_matrix)\n",
    "print(classification_report(ytest,ypred))"
   ]
  },
  {
   "cell_type": "code",
   "execution_count": null,
   "id": "fc3408ea",
   "metadata": {},
   "outputs": [],
   "source": [
    "save_model(forest, \"pass_cmp\")"
   ]
  },
  {
   "cell_type": "code",
   "execution_count": null,
   "id": "8c4c0ce6",
   "metadata": {},
   "outputs": [],
   "source": [
    "ytest"
   ]
  },
  {
   "cell_type": "markdown",
   "id": "cb9bb1d8",
   "metadata": {},
   "source": [
    "## Receiver Stats Training \n",
    "### WR / TE / RB"
   ]
  },
  {
   "cell_type": "code",
   "execution_count": null,
   "id": "8a406893",
   "metadata": {},
   "outputs": [],
   "source": [
    "df_nfl_players_stats = pd.read_csv(\"C:/Users/carlo/Downloads/nfl_pass_rush_receive_raw_data.csv\")\n",
    "df_nfl_players_stats.drop(columns=[\"Team_abbrev\", \"Opponent_abbrev\", \"vis_team\", \"home_team\", \"Roof\", \"Surface\"], inplace = True)\n",
    "df_nfl_players_stats.drop(columns=[\"Vegas_Favorite\"], inplace=True)\n",
    "df_nfl_players_stats.drop(columns=[\"game_date\"], inplace=True)\n",
    "df_nfl_players_stats.drop(columns=[\"Vegas_Line\", \"Over_Under\"], inplace=True)"
   ]
  },
  {
   "cell_type": "code",
   "execution_count": null,
   "id": "939aa5d2",
   "metadata": {},
   "outputs": [],
   "source": [
    "df_receiver = df_nfl_players_stats.copy()\n",
    "df_receiver= df_receiver[df_receiver[\"pos\"].isin([\"WR\", \"TE\", \"RB\"])]"
   ]
  },
  {
   "cell_type": "code",
   "execution_count": null,
   "id": "9f28a975",
   "metadata": {
    "scrolled": true
   },
   "outputs": [],
   "source": [
    "df_receiver"
   ]
  },
  {
   "cell_type": "code",
   "execution_count": null,
   "id": "7ae818cb",
   "metadata": {},
   "outputs": [],
   "source": [
    "Y = np.asarray(df_receiver[\"rec\"])\n",
    "df_receiver.drop(columns=[\"rec\"], inplace=True)\n",
    "\n",
    "X = np.asarray(df_receiver.iloc[:,5:]).astype(np.float32)\n",
    "X = X.reshape(X.shape[0], -1)\n",
    "\n",
    "Xtrain, Xtest, ytrain, ytest = train_test_split(X, Y, test_size=.2)"
   ]
  },
  {
   "cell_type": "code",
   "execution_count": null,
   "id": "5b294bc6",
   "metadata": {
    "scrolled": true
   },
   "outputs": [],
   "source": [
    "model_receiver = RandomForestRegressor()\n",
    "forest_receiver=model_receiver.fit(Xtrain, ytrain)\n",
    "\n",
    "ypred = forest_receiver.predict(Xtest)\n",
    "ypred = np.around(ypred)\n",
    "cnf_matrix = confusion_matrix(ytest,ypred)\n",
    "print(cnf_matrix)\n",
    "print(classification_report(ytest,ypred))\n",
    "\n",
    "seaborn.heatmap(cnf_matrix, annot=True)"
   ]
  },
  {
   "cell_type": "code",
   "execution_count": null,
   "id": "67f004f1",
   "metadata": {
    "scrolled": true
   },
   "outputs": [],
   "source": [
    "df_nfl_players_stats = pd.read_csv(\"C:/Users/carlo/Downloads/nfl_pass_rush_receive_raw_data.csv\")\n",
    "df_nfl_players_stats.drop(columns=[\"Team_abbrev\", \"Opponent_abbrev\", \"vis_team\", \"home_team\", \"Roof\", \"Surface\"], inplace = True)\n",
    "df_nfl_players_stats.drop(columns=[\"Vegas_Favorite\"], inplace=True)\n",
    "df_nfl_players_stats.drop(columns=[\"game_date\"], inplace=True)\n",
    "df_nfl_players_stats.drop(columns=[\"Vegas_Line\", \"Over_Under\"], inplace=True)\n",
    "df_receiver_all = df_nfl_players_stats.copy()"
   ]
  },
  {
   "cell_type": "code",
   "execution_count": null,
   "id": "139e8770",
   "metadata": {},
   "outputs": [],
   "source": [
    "Y = np.asarray(df_receiver_all[\"rec\"])\n",
    "df_receiver_all.drop(columns=[\"rec\"], inplace=True)\n",
    "\n",
    "X = np.asarray(df_receiver_all.iloc[:,5:]).astype(np.float32)\n",
    "X = X.reshape(X.shape[0], -1)\n",
    "\n",
    "Xtrain, Xtest, ytrain, ytest = train_test_split(X, Y, test_size=.2)"
   ]
  },
  {
   "cell_type": "code",
   "execution_count": null,
   "id": "db52bcca",
   "metadata": {
    "scrolled": true
   },
   "outputs": [],
   "source": [
    "model_receiver_all = RandomForestRegressor()\n",
    "forest_receiver_all=model_receiver_all.fit(Xtrain, ytrain)\n",
    "\n",
    "ypred = forest_receiver_all.predict(Xtest)\n",
    "ypred = np.around(ypred)\n",
    "cnf_matrix = confusion_matrix(ytest,ypred)\n",
    "print(cnf_matrix)\n",
    "print(classification_report(ytest,ypred))"
   ]
  },
  {
   "cell_type": "code",
   "execution_count": null,
   "id": "e4e03c3c",
   "metadata": {},
   "outputs": [],
   "source": [
    "importances = forest_receiver_all.feature_importances_"
   ]
  },
  {
   "cell_type": "code",
   "execution_count": null,
   "id": "51023161",
   "metadata": {},
   "outputs": [],
   "source": [
    "std = np.std([tree.feature_importances_ for tree in forest.estimators_], axis=0)"
   ]
  },
  {
   "cell_type": "code",
   "execution_count": null,
   "id": "a8edf785",
   "metadata": {},
   "outputs": [],
   "source": [
    "index = list(df_receiver_all.columns)\n",
    "del index[:5]"
   ]
  },
  {
   "cell_type": "code",
   "execution_count": null,
   "id": "70ebf7dc",
   "metadata": {},
   "outputs": [],
   "source": [
    "print(index)"
   ]
  },
  {
   "cell_type": "code",
   "execution_count": null,
   "id": "3ac8837f",
   "metadata": {},
   "outputs": [],
   "source": [
    "import matplotlib.pyplot as plt\n",
    "forest_importances = pd.Series(importances, index=index)\n",
    "\n",
    "fig, ax = plt.subplots()\n",
    "forest_importances.plot.bar(yerr=std, ax=ax)\n",
    "ax.set_title(\"Feature importances using MDI\")\n",
    "ax.set_ylabel(\"Mean decrease in impurity\")\n",
    "fig.tight_layout()"
   ]
  },
  {
   "cell_type": "code",
   "execution_count": null,
   "id": "4d78fead",
   "metadata": {},
   "outputs": [],
   "source": [
    "importances"
   ]
  },
  {
   "cell_type": "code",
   "execution_count": null,
   "id": "15ae52eb",
   "metadata": {},
   "outputs": [],
   "source": [
    "df_nfl_players_stats"
   ]
  }
 ],
 "metadata": {
  "kernelspec": {
   "display_name": "Python 3",
   "language": "python",
   "name": "python3"
  },
  "language_info": {
   "codemirror_mode": {
    "name": "ipython",
    "version": 3
   },
   "file_extension": ".py",
   "mimetype": "text/x-python",
   "name": "python",
   "nbconvert_exporter": "python",
   "pygments_lexer": "ipython3",
   "version": "3.8.8"
  }
 },
 "nbformat": 4,
 "nbformat_minor": 5
}
