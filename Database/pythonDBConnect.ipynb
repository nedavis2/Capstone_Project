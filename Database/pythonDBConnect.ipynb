{
 "cells": [
  {
   "cell_type": "code",
   "execution_count": 1,
   "id": "bcd4f08b",
   "metadata": {},
   "outputs": [
    {
     "name": "stdout",
     "output_type": "stream",
     "text": [
      "Requirement already satisfied: mysqlclient in c:\\users\\lww11\\anaconda3\\lib\\site-packages (2.1.1)Note: you may need to restart the kernel to use updated packages.\n",
      "\n"
     ]
    }
   ],
   "source": [
    "pip install mysqlclient"
   ]
  },
  {
   "cell_type": "code",
   "execution_count": 4,
   "id": "12a34e16",
   "metadata": {},
   "outputs": [
    {
     "name": "stdout",
     "output_type": "stream",
     "text": [
      "('Aaron Rodgers',)\n",
      "No of rows:  1\n"
     ]
    }
   ],
   "source": [
    "import MySQLdb                                    \n",
    "connection=MySQLdb.connect(host=\"localhost\", user=\"root\", passwd=\"\", db=\"capstone_project\")\n",
    "cur_con=connection.cursor()                           \n",
    "\n",
    "cur_con.execute(\"SELECT player FROM nfl_pass_rush_receive_raw_data where player = 'aaron rodgers' and game_date = '2019-09-05'\")                  #6\n",
    "multiplerow=cur_con.fetchall()                        \n",
    "print (multiplerow[0])\n",
    "\n",
    "print (\"No of rows: \", cur.rowcount)               \n",
    "cur_con.close()                                       \n",
    "connection.close()                           "
   ]
  },
  {
   "cell_type": "code",
   "execution_count": null,
   "id": "9c132540",
   "metadata": {},
   "outputs": [],
   "source": []
  }
 ],
 "metadata": {
  "kernelspec": {
   "display_name": "Python 3 (ipykernel)",
   "language": "python",
   "name": "python3"
  },
  "language_info": {
   "codemirror_mode": {
    "name": "ipython",
    "version": 3
   },
   "file_extension": ".py",
   "mimetype": "text/x-python",
   "name": "python",
   "nbconvert_exporter": "python",
   "pygments_lexer": "ipython3",
   "version": "3.9.7"
  }
 },
 "nbformat": 4,
 "nbformat_minor": 5
}
